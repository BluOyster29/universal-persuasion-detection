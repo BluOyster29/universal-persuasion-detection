{
 "cells": [
  {
   "cell_type": "code",
   "execution_count": 1,
   "id": "e3768178-e3fb-4b48-be7e-f9fdfc00fb43",
   "metadata": {},
   "outputs": [],
   "source": [
    "import pandas as pd\n"
   ]
  },
  {
   "cell_type": "code",
   "execution_count": 5,
   "id": "4d2e213a-0555-4cde-97e4-9d88141d7934",
   "metadata": {},
   "outputs": [],
   "source": [
    "df = pd.read_csv('../data/training.csv')\n",
    "df2 = pd.read_csv('../data/testing.csv')\n",
    "df3 = pd.concat([df,df2])\n",
    "\n",
    "df3['is_persuasion'] = 0\n",
    "\n",
    "for idx, row in df3.iterrows():\n",
    "    \n",
    "    d=row[['1-RAPPORT', '2-NEGOTIATE', '3-EMOTION', '4-LOGIC', '5-AUTHORITY', '6-SOCIAL', '7-PRESSURE']]\n",
    "    if sum(d.values) == 0:\n",
    "        df3.at[idx, 'is_persuasion'] = 0\n",
    "    else:\n",
    "        df3.at[idx, 'is_persuasion'] = 1\n",
    "\n",
    "df3 = df3.drop(columns=['1-RAPPORT', '2-NEGOTIATE', '3-EMOTION', '4-LOGIC', '5-AUTHORITY', '6-SOCIAL', '7-PRESSURE', '8-NO-PERSUASION'])"
   ]
  },
  {
   "cell_type": "code",
   "execution_count": 7,
   "id": "8175b98d-e6a2-423d-af4f-83802e84ee24",
   "metadata": {},
   "outputs": [],
   "source": [
    "from sklearn.model_selection import train_test_split\n",
    "train_df, test_df = train_test_split(df3, shuffle=True, test_size=0.3)\n",
    "train_df.to_csv('../data/binary_train.csv', index=False)\n",
    "test_df.to_csv('../data/binary_test.csv', index=False)"
   ]
  },
  {
   "cell_type": "code",
   "execution_count": null,
   "id": "0fc5dfce-e584-45f7-881a-da2b1e5f1f14",
   "metadata": {},
   "outputs": [],
   "source": []
  }
 ],
 "metadata": {
  "kernelspec": {
   "display_name": "Python 3 (ipykernel)",
   "language": "python",
   "name": "python3"
  },
  "language_info": {
   "codemirror_mode": {
    "name": "ipython",
    "version": 3
   },
   "file_extension": ".py",
   "mimetype": "text/x-python",
   "name": "python",
   "nbconvert_exporter": "python",
   "pygments_lexer": "ipython3",
   "version": "3.11.0"
  }
 },
 "nbformat": 4,
 "nbformat_minor": 5
}
